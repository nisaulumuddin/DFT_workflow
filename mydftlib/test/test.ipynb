{
 "cells": [
  {
   "cell_type": "code",
   "execution_count": 9,
   "metadata": {},
   "outputs": [],
   "source": [
    "from mydftlib.structures import create_structure, GSFE\n",
    "import yaml\n",
    "import os\n",
    "from ase.io import read, write"
   ]
  },
  {
   "cell_type": "code",
   "execution_count": 2,
   "metadata": {},
   "outputs": [
    {
     "name": "stdout",
     "output_type": "stream",
     "text": [
      "/rwthfs/rz/cluster/home/wz300646/Github/DFT_workflow/mydftlib/test\n"
     ]
    }
   ],
   "source": [
    "import os\n",
    "\n",
    "print(os.getcwd())\n"
   ]
  },
  {
   "cell_type": "code",
   "execution_count": 3,
   "metadata": {},
   "outputs": [],
   "source": [
    "# input_command = \"C15\" + \" \"+ \"7.2445\" +\" \"+ \"Co\" +\" \"+ \"Sm\"\n",
    "# input_range = 1\n",
    "# miller_indices = miller_indices_creator(input_range)\n",
    "# unique_directions = unique_slip_directions(miller_indices)"
   ]
  },
  {
   "cell_type": "code",
   "execution_count": 4,
   "metadata": {},
   "outputs": [
    {
     "name": "stdout",
     "output_type": "stream",
     "text": [
      "basal → Plane: 0001, Direction: 11-20\n",
      "pristmatic I(10-10) → Plane: 10-10, Direction: 1-210\n",
      "pristmatic II (11-20) → Plane: 11-20, Direction: 1-100\n",
      "pyramidal I (20-21) → Plane: 20-21, Direction: 1-210\n",
      "pyramidal I (10-11) → Plane: 10-11, Direction: 1-210\n",
      "pyramidal I (10-12) → Plane: 10-12, Direction: 1-210\n",
      "pyramidal II (11-21) → Plane: 11-21, Direction: 1-100\n",
      "pyramidal II (11-22) → Plane: 11-22, Direction: 1-100\n",
      "pyramidal II (11-23) → Plane: 11-23, Direction: 1-100\n"
     ]
    }
   ],
   "source": [
    "# Load from file\n",
    "with open(\"hexagonal_orth_slip_systems.yaml\", \"r\") as f:\n",
    "    slip_systems = yaml.safe_load(f)\n",
    "\n",
    "# Access or loop through slip systems\n",
    "for system in slip_systems:\n",
    "    print(\n",
    "    f\"{system['system']} → Plane: {''.join(str(x) for x in system['plane'])}, \"\n",
    "    f\"Direction: {''.join(str(x) for x in system['direction1'])}\"\n",
    ")\n"
   ]
  },
  {
   "cell_type": "code",
   "execution_count": 18,
   "metadata": {},
   "outputs": [
    {
     "name": "stdout",
     "output_type": "stream",
     "text": [
      "Atomsk ran successfully. File saved to: oriented_cells/Fe2Ta_x11-20_y1-100_z0001_x1y1z1.lmp\n",
      "Output file: oriented_cells/Fe2Ta_x11-20_y1-100_z0001_x1y1z1.lmp\n",
      "Atomsk ran successfully. File saved to: oriented_cells/Fe2Ta_x1-210_y0001_z10-10_x1y1z1.lmp\n",
      "Output file: oriented_cells/Fe2Ta_x1-210_y0001_z10-10_x1y1z1.lmp\n",
      "Atomsk ran successfully. File saved to: oriented_cells/Fe2Ta_x1-100_y0001_z11-20_x1y1z1.lmp\n",
      "Output file: oriented_cells/Fe2Ta_x1-100_y0001_z11-20_x1y1z1.lmp\n",
      "Atomsk ran successfully. File saved to: oriented_cells/Fe2Ta_x1-210_y-1014_z20-21_x1y1z1.lmp\n",
      "Output file: oriented_cells/Fe2Ta_x1-210_y-1014_z20-21_x1y1z1.lmp\n",
      "Atomsk ran successfully. File saved to: oriented_cells/Fe2Ta_x1-210_y-1012_z10-11_x1y1z1.lmp\n",
      "Output file: oriented_cells/Fe2Ta_x1-210_y-1012_z10-11_x1y1z1.lmp\n",
      "Atomsk ran successfully. File saved to: oriented_cells/Fe2Ta_x1-210_y-1011_z10-12_x1y1z1.lmp\n",
      "Output file: oriented_cells/Fe2Ta_x1-210_y-1011_z10-12_x1y1z1.lmp\n",
      "Atomsk ran successfully. File saved to: oriented_cells/Fe2Ta_x1-100_y-1-126_z11-21_x1y1z1.lmp\n",
      "Output file: oriented_cells/Fe2Ta_x1-100_y-1-126_z11-21_x1y1z1.lmp\n",
      "Atomsk failed: Command '/home/wz300646/Installations/atomsk/src/atomsk --create C14 4.7539377906267832  7.7729405500689488 Fe Ta  orient [1-100] [-1-123] [11-22] -duplicate 1 1 1 Fe2Ta_x1-100_y-1-123_z11-22_x1y1z1.lmp' returned non-zero exit status 2.\n",
      "Output file not found: None\n",
      "Atomsk ran successfully. File saved to: oriented_cells/Fe2Ta_x1-100_y-1-122_z11-23_x1y1z1.lmp\n",
      "Output file: oriented_cells/Fe2Ta_x1-100_y-1-122_z11-23_x1y1z1.lmp\n"
     ]
    }
   ],
   "source": [
    "# Define the input command for Atomsk\n",
    "input_command = \"C14 4.7539377906267832  7.7729405500689488 Fe Ta \"  #\n",
    "\n",
    "for system in slip_systems:\n",
    "    direction1 = ''.join(str(x) for x in system['direction1'])\n",
    "    direction2 = ''.join(str(x) for x in system['direction2'])\n",
    "    direction3 = ''.join(str(x) for x in system['plane'])\n",
    "    \n",
    "    # Optionally specify output filename\n",
    "    output_file = f\"Fe2Ta_x{direction1}_y{direction2}_z{direction3}_x1y1z1.lmp\"\n",
    "    vasp_file =f\"Fe2Ta_x{direction1}_y{direction2}_z{direction3}_x1y1z1.vasp\"\n",
    "    \n",
    "    # Call the function\n",
    "    result_path = create_structure.run_atomsk(\n",
    "        input_command=input_command,\n",
    "        orientation=f\"[{direction1}] [{direction2}] [{direction3}]\",\n",
    "        output_filename=output_file,\n",
    "    )\n",
    "    \n",
    "    if result_path is None or not os.path.isfile(result_path):\n",
    "        print(f\"Output file not found: {result_path}\")\n",
    "        continue\n",
    "    else:\n",
    "        atoms = read(result_path,format='lammps-data')\n",
    "        write(vasp_file,images=atoms)\n",
    "        print(\"Output file:\", result_path)"
   ]
  },
  {
   "cell_type": "code",
   "execution_count": 6,
   "metadata": {},
   "outputs": [
    {
     "ename": "TypeError",
     "evalue": "gsfe_struct() got an unexpected keyword argument 'shift_plane'",
     "output_type": "error",
     "traceback": [
      "\u001b[31m---------------------------------------------------------------------------\u001b[39m",
      "\u001b[31mTypeError\u001b[39m                                 Traceback (most recent call last)",
      "\u001b[36mCell\u001b[39m\u001b[36m \u001b[39m\u001b[32mIn[6]\u001b[39m\u001b[32m, line 9\u001b[39m\n\u001b[32m      3\u001b[39m \u001b[38;5;28;01mfrom\u001b[39;00m\u001b[38;5;250m \u001b[39m\u001b[34;01mpathlib\u001b[39;00m\u001b[38;5;250m \u001b[39m\u001b[38;5;28;01mimport\u001b[39;00m Path\n\u001b[32m      5\u001b[39m \u001b[38;5;66;03m# Example 1: Using an ASE Atoms object (e.g., bulk crystal)\u001b[39;00m\n\u001b[32m      6\u001b[39m \u001b[38;5;66;03m# structure = bulk('Cu', 'fcc', a=3.6, cubic=True)\u001b[39;00m\n\u001b[32m      7\u001b[39m \n\u001b[32m      8\u001b[39m \u001b[38;5;66;03m# Call the function with ASE Atoms object\u001b[39;00m\n\u001b[32m----> \u001b[39m\u001b[32m9\u001b[39m gsfe_results = \u001b[43mGSFE\u001b[49m\u001b[43m.\u001b[49m\u001b[43mgsfe_struct\u001b[49m\u001b[43m(\u001b[49m\n\u001b[32m     10\u001b[39m \u001b[43m    \u001b[49m\u001b[43mstructure\u001b[49m\u001b[43m=\u001b[49m\u001b[43mPath\u001b[49m\u001b[43m(\u001b[49m\u001b[43mresult_path\u001b[49m\u001b[43m)\u001b[49m\u001b[43m,\u001b[49m\n\u001b[32m     11\u001b[39m \u001b[43m    \u001b[49m\u001b[43mstruct_format\u001b[49m\u001b[43m=\u001b[49m\u001b[33;43m'\u001b[39;49m\u001b[33;43mlammps-data\u001b[39;49m\u001b[33;43m'\u001b[39;49m\u001b[43m,\u001b[49m\u001b[43m  \u001b[49m\u001b[38;5;66;43;03m# ignored since structure is ASE Atoms\u001b[39;49;00m\n\u001b[32m     12\u001b[39m \u001b[43m    \u001b[49m\u001b[43minterlayer_shift\u001b[49m\u001b[43m=\u001b[49m\u001b[32;43m0.1\u001b[39;49m\u001b[43m,\u001b[49m\n\u001b[32m     13\u001b[39m \u001b[43m    \u001b[49m\u001b[43mincrements\u001b[49m\u001b[43m=\u001b[49m\u001b[32;43m5\u001b[39;49m\u001b[43m,\u001b[49m\n\u001b[32m     14\u001b[39m \u001b[43m    \u001b[49m\u001b[43mxmax\u001b[49m\u001b[43m=\u001b[49m\u001b[32;43m1.0\u001b[39;49m\u001b[43m,\u001b[49m\n\u001b[32m     15\u001b[39m \u001b[43m    \u001b[49m\u001b[43mduplicate_z\u001b[49m\u001b[43m=\u001b[49m\u001b[32;43m5\u001b[39;49m\u001b[43m,\u001b[49m\n\u001b[32m     16\u001b[39m \u001b[43m    \u001b[49m\u001b[43mshift_plane\u001b[49m\u001b[43m=\u001b[49m\u001b[32;43m0.5\u001b[39;49m\u001b[43m,\u001b[49m\n\u001b[32m     17\u001b[39m \u001b[43m)\u001b[49m\n",
      "\u001b[31mTypeError\u001b[39m: gsfe_struct() got an unexpected keyword argument 'shift_plane'"
     ]
    }
   ],
   "source": [
    "from ase import Atoms\n",
    "from ase.build import bulk\n",
    "from pathlib import Path\n",
    "\n",
    "# Example 1: Using an ASE Atoms object (e.g., bulk crystal)\n",
    "# structure = bulk('Cu', 'fcc', a=3.6, cubic=True)\n",
    "\n",
    "# Call the function with ASE Atoms object\n",
    "gsfe_results = GSFE.gsfe_struct(\n",
    "    structure=Path(result_path),\n",
    "    struct_format='lammps-data',  # ignored since structure is ASE Atoms\n",
    "    interlayer_shift=0.1,\n",
    "    increments=5,\n",
    "    xmax=1.0,\n",
    "    duplicate_z=5,\n",
    "    shift_plane=0.5,\n",
    ")"
   ]
  },
  {
   "cell_type": "code",
   "execution_count": null,
   "metadata": {},
   "outputs": [],
   "source": []
  }
 ],
 "metadata": {
  "kernelspec": {
   "display_name": "py311",
   "language": "python",
   "name": "python3"
  },
  "language_info": {
   "codemirror_mode": {
    "name": "ipython",
    "version": 3
   },
   "file_extension": ".py",
   "mimetype": "text/x-python",
   "name": "python",
   "nbconvert_exporter": "python",
   "pygments_lexer": "ipython3",
   "version": "3.11.3"
  }
 },
 "nbformat": 4,
 "nbformat_minor": 2
}
