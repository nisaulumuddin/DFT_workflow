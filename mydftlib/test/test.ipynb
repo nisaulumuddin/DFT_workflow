{
 "cells": [
  {
   "cell_type": "code",
   "execution_count": 1,
   "metadata": {},
   "outputs": [],
   "source": [
    "import os \n",
    "os.chdir(\"..\")\n",
    "\n",
    "from config.config import Config as DefaultPath\n",
    "from structures import create_structure, GSFE\n",
    "\n",
    "ATOMSK_PATH = DefaultPath.ATOMSK_PATH\n",
    "DFT_WORKFLOW_ROOT= DefaultPath.DFT_WORKFLOW_ROOT\n"
   ]
  },
  {
   "cell_type": "code",
   "execution_count": 2,
   "metadata": {},
   "outputs": [
    {
     "name": "stdout",
     "output_type": "stream",
     "text": [
      "  ___________________________________________________                \n",
      " |              ___________                          |                \n",
      " |     o---o    A T O M S K                          |                \n",
      " |    o---o|    Version master                       |                \n",
      " |    |   |o    (C) 2010 Pierre Hirel                |                \n",
      " |    o---o     https://atomsk.univ-lille.fr         |                \n",
      " |___________________________________________________|                \n",
      " >>> Creating system:                \n",
      " ..> Fe7Ta6 with mu structure with box vectors H1=[11-20] H2=[1-100] H3=[0001].                \n",
      " ..> System was successfully created.                \n",
      " >>> Duplicating the system: 1 x 1 x 1                \n",
      " /!\\ WARNING: expansion factors are all equal to 1, skipping.                \n",
      " >>> Writing output file(s) (78 atoms):                \n",
      " ..> Successfully wrote LAMMPS data file: Ta6Fe7_x11-20_y1-100_z0001_duplx1y1z4.lmp                \n",
      " \\o/ Program terminated successfully!                \n",
      "     Total time: 1.283 s.; CPU time: 19.553 s.                \n",
      "  ___________________________________________________                \n",
      " |  /!\\ WARNINGS: 1                                  |                \n",
      " |___________________________________________________|                \n",
      "Atomsk ran successfully. File saved to: /home/ulumuddin/Github/DFT_workflow/SIMULATION/oriented_cells/Ta6Fe7_x11-20_y1-100_z0001_duplx1y1z4.lmp\n",
      "Output file: /home/ulumuddin/Github/DFT_workflow/SIMULATION/oriented_cells/Ta6Fe7_x11-20_y1-100_z0001_duplx1y1z4.lmp\n"
     ]
    }
   ],
   "source": [
    "# Define the input command for Atomsk\n",
    "input_command = \"Mu 4.848769584156784  26.869450905006907 Fe Ta \"  #\n",
    "\n",
    "# Optionally specify output filename\n",
    "output_file = \"Ta6Fe7_x11-20_y1-100_z0001_duplx1y1z4.lmp\"\n",
    "\n",
    "# Call the function\n",
    "result_path = create_structure.run_atomsk(\n",
    "    input_command=input_command,\n",
    "    orientation=\"[11-20] [1-100] [0001]\",\n",
    "    output_filename=output_file,\n",
    "    atomsk_path=DefaultPath.ATOMSK_PATH,\n",
    ")\n",
    "\n",
    "print(\"Output file:\", result_path)"
   ]
  },
  {
   "cell_type": "code",
   "execution_count": 5,
   "metadata": {},
   "outputs": [],
   "source": [
    "from ase import Atoms\n",
    "from ase.build import bulk\n",
    "from pathlib import Path\n",
    "\n",
    "# Example 1: Using an ASE Atoms object (e.g., bulk crystal)\n",
    "# structure = bulk('Cu', 'fcc', a=3.6, cubic=True)\n",
    "\n",
    "# Call the function with ASE Atoms object\n",
    "gsfe_results = GSFE.gsfe_struct(\n",
    "    structure=Path(result_path),\n",
    "    struct_format='lammps-data',  # ignored since structure is ASE Atoms\n",
    "    interlayer_shift=0.1,\n",
    "    increments=5,\n",
    "    xmax=1.0,\n",
    "    duplicate_z=5,\n",
    "    shift_plane=0.5,\n",
    ")"
   ]
  },
  {
   "cell_type": "code",
   "execution_count": null,
   "metadata": {},
   "outputs": [],
   "source": []
  }
 ],
 "metadata": {
  "kernelspec": {
   "display_name": "py311",
   "language": "python",
   "name": "python3"
  },
  "language_info": {
   "codemirror_mode": {
    "name": "ipython",
    "version": 3
   },
   "file_extension": ".py",
   "mimetype": "text/x-python",
   "name": "python",
   "nbconvert_exporter": "python",
   "pygments_lexer": "ipython3",
   "version": "3.11.3"
  }
 },
 "nbformat": 4,
 "nbformat_minor": 2
}
